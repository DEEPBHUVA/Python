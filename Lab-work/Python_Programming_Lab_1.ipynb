{
  "cells": [
    {
      "cell_type": "markdown",
      "metadata": {
        "id": "c4BjdJUA9bfL"
      },
      "source": [
        "<a href='https://www.darshan.ac.in/'> <img src='https://www.darshan.ac.in/Content/media/DU_Logo.svg' width=\"250\" height=\"300\"/></a>\n",
        "<pre>\n",
        "<center><b><h1>Python Programming - 2101CS405</b></center>\n",
        "<center><b><h1>Lab - 1</b></center>    \n",
        "<pre>"
      ]
    },
    {
      "cell_type": "markdown",
      "metadata": {
        "id": "m1XYS7do9bfP"
      },
      "source": [
        "### 01) WAP to print “Hello World”"
      ]
    },
    {
      "cell_type": "code",
      "execution_count": 1,
      "metadata": {
        "id": "agCD8Qw79bfQ",
        "outputId": "43bb4ef9-3ade-4b53-9bdc-936fcecd2d44"
      },
      "outputs": [
        {
          "name": "stdout",
          "output_type": "stream",
          "text": [
            "Hello World\n"
          ]
        }
      ],
      "source": [
        "print(\"Hello World\")"
      ]
    },
    {
      "cell_type": "markdown",
      "metadata": {
        "id": "HJ7vA41r9bfR"
      },
      "source": [
        "### 02) WAP to print your address i) using single print ii) using multiple print"
      ]
    },
    {
      "cell_type": "code",
      "execution_count": 2,
      "metadata": {
        "id": "Pv1uhr3T9bfR",
        "outputId": "a0081c2c-cfac-497c-8a0b-d2ac9a2c975d"
      },
      "outputs": [
        {
          "name": "stdout",
          "output_type": "stream",
          "text": [
            "Utakash boyz hostel\n",
            " Morbi road\n",
            " Rajkot, Near Darshan university,hadala\n"
          ]
        }
      ],
      "source": [
        "print(\"Utakash boyz hostel\\n Morbi road\\n Rajkot, Near Darshan university,hadala\")"
      ]
    },
    {
      "cell_type": "markdown",
      "metadata": {
        "id": "gqkg4U609bfR"
      },
      "source": [
        "### 03) WAP to print addition of 2 numbers (without input function)"
      ]
    },
    {
      "cell_type": "code",
      "execution_count": 3,
      "metadata": {
        "id": "FBD6LsG69bfS",
        "outputId": "7e26ab71-c986-4e84-f7a9-18dfabb49c8f"
      },
      "outputs": [
        {
          "name": "stdout",
          "output_type": "stream",
          "text": [
            "Addition of 2 number is 80\n"
          ]
        }
      ],
      "source": [
        "a = 10\n",
        "b = 70\n",
        "print(\"Addition of 2 number is\", a+b)"
      ]
    },
    {
      "cell_type": "markdown",
      "metadata": {
        "id": "8aByt-zq9bfS"
      },
      "source": [
        "### 04) WAP to calculate and print average of 2 numbers (without input function)"
      ]
    },
    {
      "cell_type": "code",
      "execution_count": 4,
      "metadata": {
        "id": "6YEqaupJ9bfS",
        "outputId": "91026b97-e72c-45a5-dd07-de95f9b48722"
      },
      "outputs": [
        {
          "name": "stdout",
          "output_type": "stream",
          "text": [
            "Average of 2 number is 33.0\n"
          ]
        }
      ],
      "source": [
        "a = 10\n",
        "b = 56\n",
        "print(\"Average of 2 number is\", (a+b)/2)"
      ]
    },
    {
      "cell_type": "markdown",
      "metadata": {
        "id": "qpaj9NSj9bfT"
      },
      "source": [
        "### 05) WAP to add two number entered by user."
      ]
    },
    {
      "cell_type": "code",
      "execution_count": 5,
      "metadata": {
        "id": "-ck_hb1y9bfT",
        "outputId": "b27769bc-a241-482f-f105-dc0357eac514"
      },
      "outputs": [
        {
          "ename": "ValueError",
          "evalue": "invalid literal for int() with base 10: ''",
          "output_type": "error",
          "traceback": [
            "\u001b[1;31m---------------------------------------------------------------------------\u001b[0m",
            "\u001b[1;31mValueError\u001b[0m                                Traceback (most recent call last)",
            "Cell \u001b[1;32mIn[5], line 1\u001b[0m\n\u001b[1;32m----> 1\u001b[0m a \u001b[39m=\u001b[39m \u001b[39mint\u001b[39;49m(\u001b[39minput\u001b[39;49m(\u001b[39m\"\u001b[39;49m\u001b[39mEnter first number:\u001b[39;49m\u001b[39m\"\u001b[39;49m))\n\u001b[0;32m      2\u001b[0m b \u001b[39m=\u001b[39m \u001b[39mint\u001b[39m(\u001b[39minput\u001b[39m(\u001b[39m\"\u001b[39m\u001b[39mEnter second number:\u001b[39m\u001b[39m\"\u001b[39m))\n\u001b[0;32m      4\u001b[0m \u001b[39mprint\u001b[39m(\u001b[39m\"\u001b[39m\u001b[39mAddition:\u001b[39m\u001b[39m\"\u001b[39m,a\u001b[39m+\u001b[39mb)\n",
            "\u001b[1;31mValueError\u001b[0m: invalid literal for int() with base 10: ''"
          ]
        }
      ],
      "source": [
        "a = int(input(\"Enter first number:\"))\n",
        "b = int(input(\"Enter second number:\"))\n",
        "\n",
        "print(\"Addition:\",a+b)"
      ]
    },
    {
      "cell_type": "markdown",
      "metadata": {
        "id": "jqbFr2Uz9bfT"
      },
      "source": [
        "### 06) WAP to calculate simple interest."
      ]
    },
    {
      "cell_type": "code",
      "execution_count": null,
      "metadata": {
        "id": "X7EcgdsT9bfT",
        "outputId": "3ca78863-26c5-49fb-83fa-05a0fa035eb9"
      },
      "outputs": [
        {
          "name": "stdout",
          "output_type": "stream",
          "text": [
            "Simple interest is  54000.0\n"
          ]
        }
      ],
      "source": [
        "p = int(input(\"Enter Principal:\"))\n",
        "n = int(input(\"Enter Time:\"))\n",
        "r = int(input(\"Enter Rate:\"))\n",
        "\n",
        "print(\"Simple interest is \",(p*n*r)/100)"
      ]
    },
    {
      "cell_type": "markdown",
      "metadata": {
        "id": "dCFpQZRN9bfU"
      },
      "source": [
        "### 07) WAP Calculate Area and Circumfrence of Circle"
      ]
    },
    {
      "cell_type": "code",
      "execution_count": null,
      "metadata": {
        "id": "6uwmTBZ-9bfU",
        "outputId": "e2df6641-244c-4c05-d016-f13be88c081b"
      },
      "outputs": [
        {
          "name": "stdout",
          "output_type": "stream",
          "text": [
            "The area of circle is 314.0\n",
            "The Circumfrence of circle is 62.800000000000004\n"
          ]
        }
      ],
      "source": [
        "r = int(input(\"Enter Radius:\"))\n",
        "\n",
        "print(\"The area of circle is\",3.14*r*r)\n",
        "print(\"The Circumfrence of circle is\",2*3.14*r)\n"
      ]
    },
    {
      "cell_type": "markdown",
      "metadata": {
        "id": "YQwddLfq9bfU"
      },
      "source": [
        "### 08) WAP to print Multiplication table of given number without using loops."
      ]
    },
    {
      "cell_type": "code",
      "execution_count": null,
      "metadata": {
        "id": "5FG_s3mU9bfU",
        "outputId": "98483a0c-e330-4ff0-9022-eb5f27d63ee6"
      },
      "outputs": [
        {
          "name": "stdout",
          "output_type": "stream",
          "text": [
            "16 32 48 64 80 96 112 128 144 160\n"
          ]
        }
      ],
      "source": [
        "n = int(input(\"Enter number of multiplication table:\"))\n",
        "print(n*1,n*2,n*3,n*4,n*5,n*6,n*7,n*8,n*9,n*10)\n"
      ]
    },
    {
      "cell_type": "markdown",
      "metadata": {
        "id": "IbPtV9MS9bfU"
      },
      "source": [
        "### 09) WAP to calculate Area of Triangle (hint: a = h * b * 0.5)"
      ]
    },
    {
      "cell_type": "code",
      "execution_count": null,
      "metadata": {
        "id": "rnl9P5_w9bfV",
        "outputId": "8f68cb77-2003-48cb-a12d-676aca05a8c2"
      },
      "outputs": [
        {
          "name": "stdout",
          "output_type": "stream",
          "text": [
            "The area of tringle is 100.0\n"
          ]
        }
      ],
      "source": [
        "h = int(input(\"Enter Height:\"))\n",
        "b = int(input(\"Enter Base:\"))\n",
        "\n",
        "print(\"The area of tringle is\",h*b*0.5)"
      ]
    },
    {
      "cell_type": "markdown",
      "metadata": {
        "id": "J3RMcoRc9bfV"
      },
      "source": [
        "### 10) WAP to convert degree to Fahrenheit and vice versa."
      ]
    },
    {
      "cell_type": "code",
      "execution_count": null,
      "metadata": {
        "id": "5bQO21aq9bfV",
        "outputId": "4ce7abff-9258-409f-e5ef-202fd04f72ae"
      },
      "outputs": [
        {
          "name": "stdout",
          "output_type": "stream",
          "text": [
            "Dgree to Fahrenhit conversion is  113.0\n",
            "Fahrenhit to Dgree conversion is  0.0\n"
          ]
        }
      ],
      "source": [
        "c = int(input(\"Enter Degree in Celsius:\"))\n",
        "f = int(input(\"Enter Fahrenhit:\"))\n",
        "\n",
        "Fahrenhit = (c * (9/5))+32\n",
        "Dgree = (f-32)*(5/9)\n",
        "\n",
        "print(\"Dgree to Fahrenhit conversion is \",Fahrenhit)\n",
        "print(\"Fahrenhit to Dgree conversion is \",Dgree)"
      ]
    },
    {
      "cell_type": "markdown",
      "metadata": {
        "id": "KIxl6GIl9bfV"
      },
      "source": [
        "### 11) WAP to calculate total marks and Percentage."
      ]
    },
    {
      "cell_type": "code",
      "execution_count": null,
      "metadata": {
        "id": "sD6qg-mH9bfV",
        "outputId": "d8569deb-5af0-42d9-e802-f9516467ed27"
      },
      "outputs": [
        {
          "name": "stdout",
          "output_type": "stream",
          "text": [
            "Total is 119\n",
            "Percentage is 39.666666666666664\n"
          ]
        }
      ],
      "source": [
        "sub1 = int(input(\"Enter marks of sub1:\"))\n",
        "sub2 = int(input(\"Enter marks of sub2:\"))\n",
        "sub3 = int(input(\"Enter marks of sub3:\"))\n",
        "\n",
        "print(\"Total is\",sub1+sub2+sub3)\n",
        "print(\"Percentage is\",(sub1+sub2+sub3)/3)"
      ]
    },
    {
      "cell_type": "markdown",
      "metadata": {
        "id": "ZfzxYoD-9bfW"
      },
      "source": [
        "### 12) Compute distance between two points taking input from the user (Pythagorean Theorem)."
      ]
    },
    {
      "cell_type": "code",
      "execution_count": null,
      "metadata": {
        "id": "GxAjxs769bfW",
        "outputId": "adbea788-4ab0-41a5-ad36-61e598331f41"
      },
      "outputs": [
        {
          "name": "stdout",
          "output_type": "stream",
          "text": [
            "Third side is 22.20360331117452\n"
          ]
        }
      ],
      "source": [
        "import math\n",
        "a = int(input(\"Enter side a:\"))\n",
        "b = int(input(\"Enter side b:\"))\n",
        "\n",
        "c = math.sqrt(a*a + b*b)\n",
        "print(\"Third side is\",c)"
      ]
    },
    {
      "cell_type": "markdown",
      "metadata": {
        "id": "PqC58OwL9bfW"
      },
      "source": [
        "### 13) WAP to convert seconds into hours, minutes & seconds and print in HH:MM:SS\n",
        "[e.g. 10000 seconds mean 2:46:40 (2 Hours, 46 Minutes, 40Seconds)]"
      ]
    },
    {
      "cell_type": "code",
      "execution_count": null,
      "metadata": {
        "id": "M4Dx0Ro89bfW",
        "outputId": "9d9735b2-734a-410e-86d3-202d211dabae"
      },
      "outputs": [
        {
          "ename": "",
          "evalue": "",
          "output_type": "error",
          "traceback": [
            "\u001b[1;31mFailed to start the Kernel. \n",
            "\u001b[1;31mUnable to start Kernel 'Python 3.11.0' due to connection timeout. \n",
            "\u001b[1;31mView Jupyter <a href='command:jupyter.viewOutput'>log</a> for further details."
          ]
        }
      ],
      "source": [
        "from datetime import timedelta\n",
        "sec = int(input(\"Enter Seconds:\"))\n",
        "\n",
        "td = timedelta(seconds=sec)\n",
        "# --------------------------------\n",
        "# h = (sec / 3600);\n",
        "# remainingSeconds = sec - (h * 3600);\n",
        "# m = remainingSeconds / 60;\n",
        "# remainingSeconds = remainingSeconds - (m * 60);\n",
        "# s = remainingSeconds;\n",
        "# --------------------------------\n",
        "print(\"HH:MM:SS\",td)"
      ]
    },
    {
      "cell_type": "markdown",
      "metadata": {
        "id": "VO3ah6xu9bfW"
      },
      "source": [
        "### 14) WAP to enter distance into kilometer and convert it into meter, feet,inches, and centimeter"
      ]
    },
    {
      "cell_type": "code",
      "execution_count": null,
      "metadata": {
        "id": "9DaJRvfB9bfW",
        "outputId": "6c3d9e13-5791-4c46-a9a9-40efc817f303"
      },
      "outputs": [
        {
          "name": "stdout",
          "output_type": "stream",
          "text": [
            "Meter: 23000\n",
            "Feet: 75459.358333341\n",
            "Inches: 905512.2999999999\n",
            "Centimeter: 2300000\n"
          ]
        }
      ],
      "source": [
        "km = int(input(\"Enter The distance into Km:\"))\n",
        "\n",
        "print(\"Meter:\",km*1000)\n",
        "print(\"Feet:\",km*3280.841666667)\n",
        "print(\"Inches:\",km * 39370.1)\n",
        "print(\"Centimeter:\",km*100000)"
      ]
    }
  ],
  "metadata": {
    "colab": {
      "provenance": [],
      "toc_visible": true
    },
    "kernelspec": {
      "display_name": "Python 3.11.0 64-bit",
      "language": "python",
      "name": "python3"
    },
    "language_info": {
      "codemirror_mode": {
        "name": "ipython",
        "version": 3
      },
      "file_extension": ".py",
      "mimetype": "text/x-python",
      "name": "python",
      "nbconvert_exporter": "python",
      "pygments_lexer": "ipython3",
      "version": "3.11.0 (main, Oct 24 2022, 18:26:48) [MSC v.1933 64 bit (AMD64)]"
    },
    "vscode": {
      "interpreter": {
        "hash": "2445a01a1005cb4b99379468a9c53f68f512dccecbfad3b1b98a911d2150d6c9"
      }
    }
  },
  "nbformat": 4,
  "nbformat_minor": 0
}
