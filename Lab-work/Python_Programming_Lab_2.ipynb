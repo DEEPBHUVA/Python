{
  "cells": [
    {
      "cell_type": "markdown",
      "metadata": {
        "id": "JZT8tstc2w4S"
      },
      "source": [
        "\n",
        "<a href='https://www.darshan.ac.in/'> <img src='https://www.darshan.ac.in/Content/media/DU_Logo.svg' width=\"250\" height=\"300\"/></a>\n",
        "<pre>\n",
        "<center><b><h1>Python Programming - 2101CS405</b></center>\n",
        "<center><b><h1>Lab - 2</b></center>    \n",
        "<pre>"
      ]
    },
    {
      "cell_type": "markdown",
      "metadata": {
        "id": "WSwg77yz2w4X"
      },
      "source": [
        "# if..else.."
      ]
    },
    {
      "cell_type": "markdown",
      "metadata": {
        "id": "WfdRttCJ2w4Y"
      },
      "source": [
        "### 01) WAP to check whether the given number is positive or negative."
      ]
    },
    {
      "cell_type": "code",
      "execution_count": null,
      "metadata": {
        "id": "Z_A0T_mw2w4Z",
        "outputId": "74bb0315-cb23-43be-c8d6-3f2dff7946c2"
      },
      "outputs": [
        {
          "name": "stdout",
          "output_type": "stream",
          "text": [
            "-89 is negative number\n"
          ]
        }
      ],
      "source": [
        "n = int(input(\"Enter number:\"))\n",
        "if n>0:\n",
        "    print(n,\"is positive number\")\n",
        "else:\n",
        "    print(n,\"is negative number\")"
      ]
    },
    {
      "cell_type": "markdown",
      "metadata": {
        "id": "0zd9Z4fN2w4b"
      },
      "source": [
        "### 02) WAP to check whether the given number is odd or even"
      ]
    },
    {
      "cell_type": "code",
      "execution_count": null,
      "metadata": {
        "id": "2wS6fAwi2w4c",
        "outputId": "7e6cfaa5-0f0e-4cdc-dcca-e68cdcf14340"
      },
      "outputs": [
        {
          "name": "stdout",
          "output_type": "stream",
          "text": [
            "46 is Even number\n"
          ]
        }
      ],
      "source": [
        "n = int(input(\"Enter number:\"))\n",
        "if n%2==0:\n",
        "    print(n,\"is Even number\")\n",
        "else:\n",
        "    print(n,\"is Odd number\")\n"
      ]
    },
    {
      "cell_type": "markdown",
      "metadata": {
        "id": "H0HadL2A2w4c"
      },
      "source": [
        "### 03) WAP to find out largest number from given two numbers using simple if and ternary operator."
      ]
    },
    {
      "cell_type": "code",
      "execution_count": null,
      "metadata": {
        "id": "palvwHeP2w4d"
      },
      "outputs": [],
      "source": [
        "a = int(input(\"Enter frist number:\"))\n",
        "b = int(input(\"Enter second number:\"))\n",
        "if a>b:\n",
        "    print(a,\"is Latgest number\")\n",
        "else:\n",
        "    print(b,\"is Latgest number\")\n",
        "\n",
        "# ---------Using ternary operator---------\n",
        "larg = a if a >b else b\n",
        "print(larg,\"is largest number\")"
      ]
    },
    {
      "cell_type": "markdown",
      "metadata": {
        "id": "KztdT7n136tL"
      },
      "source": []
    },
    {
      "cell_type": "markdown",
      "metadata": {
        "id": "93TARgCC2w4e"
      },
      "source": [
        "### 04) WAP to find out largest number from given three numbers."
      ]
    },
    {
      "cell_type": "code",
      "execution_count": null,
      "metadata": {
        "id": "cCFG_8JB2w4f",
        "outputId": "10124976-f63c-47c7-ab6c-1110c815052c"
      },
      "outputs": [
        {
          "name": "stdout",
          "output_type": "stream",
          "text": [
            "100 is largest number\n"
          ]
        }
      ],
      "source": [
        "a = int(input(\"Enter frist number:\"))\n",
        "b = int(input(\"Enter second number:\"))\n",
        "c = int(input(\"Enter third number:\"))\n",
        "\n",
        "if a>b:\n",
        "    if a>c:\n",
        "        print(a,\"is largest number\")\n",
        "    else:\n",
        "        print(c,\"is largest number\")\n",
        "if b>c:\n",
        "    print(b,\"is largest number\")\n",
        "else:\n",
        "    print(c,\"is largest number\")\n"
      ]
    },
    {
      "cell_type": "markdown",
      "metadata": {
        "id": "kFIqxjyI2w4g"
      },
      "source": [
        "### 05) WAP to check whether the given year is leap year or not.\n",
        "[If a year can be divisible by 4 but not divisible by 100 then it is leap year but if it is divisible by 400 then it is leap year]"
      ]
    },
    {
      "cell_type": "code",
      "execution_count": null,
      "metadata": {
        "id": "Q7hslAyM2w4g",
        "outputId": "0a07f0dd-88c8-4be5-f797-171d90ac7949"
      },
      "outputs": [
        {
          "name": "stdout",
          "output_type": "stream",
          "text": [
            "1990 is not Leap year\n"
          ]
        }
      ],
      "source": [
        "year = int(input(\"Enter year to cheak leap year or not:\"))\n",
        "if year%4==0:\n",
        "    print(year,\"is Leap year\")\n",
        "elif year%100!=0:\n",
        "    print(year,\"is not Leap year\")\n",
        "elif year%400==0:\n",
        "    print(year,\"is Leap year\")\n",
        "else:\n",
        "    print(year,\"is not Leap year\")"
      ]
    },
    {
      "cell_type": "markdown",
      "metadata": {
        "id": "76TdX6nv2w4h"
      },
      "source": [
        "### 06) WAP in python to display the name of the day according to the number given by the user"
      ]
    },
    {
      "cell_type": "code",
      "execution_count": 3,
      "metadata": {
        "colab": {
          "base_uri": "https://localhost:8080/"
        },
        "id": "yl2KWnU52w4h",
        "outputId": "8e54dadc-7cb4-4386-e32d-5c70c8476dca"
      },
      "outputs": [
        {
          "name": "stdout",
          "output_type": "stream",
          "text": [
            "Enter number between(1-7):7\n",
            "Sunday!! Weekend vibes\n"
          ]
        }
      ],
      "source": [
        "n = int(input(\"Enter number between(1-7):\"))\n",
        "\n",
        "if n==1:\n",
        "    print(\"Monday\")\n",
        "elif n==2:\n",
        "    print(\"Tuesday\")\n",
        "elif n==3:\n",
        "    print(\"Wednesday\")\n",
        "elif n==4:\n",
        "    print(\"Thursday\")\n",
        "elif n==5:\n",
        "    print(\"Friday\")\n",
        "elif n==6:\n",
        "    print(\"Satursday\") \n",
        "elif n==7:\n",
        "    print(\"Sunday!! Weekend vibes\")\n",
        "else:\n",
        "    print(\"Invalid!\")"
      ]
    },
    {
      "cell_type": "markdown",
      "metadata": {
        "id": "2sK86gwe2w4h"
      },
      "source": [
        "### 07) WAP to implement simple calculator which performs (add,sub,mul,div) of two no. based on user input."
      ]
    },
    {
      "cell_type": "code",
      "execution_count": 6,
      "metadata": {
        "colab": {
          "base_uri": "https://localhost:8080/"
        },
        "id": "LsufzJaK2w4i",
        "outputId": "871c7075-7164-4ca1-b9aa-8180a70d6d9c"
      },
      "outputs": [
        {
          "name": "stdout",
          "output_type": "stream",
          "text": [
            "Enter first number:4\n",
            "Enter second number:5\n",
            "Enter Your Choice(+,-,/,*):*\n",
            "Multiplication: 20\n"
          ]
        }
      ],
      "source": [
        "a = int(input(\"Enter first number:\"))\n",
        "b = int(input(\"Enter second number:\"))\n",
        "\n",
        "choice = input(\"Enter Your Choice(+,-,/,*):\")\n",
        "if choice=='+':\n",
        "    print(\"Addition:\",a+b)\n",
        "elif choice=='-':\n",
        "    print(\"Substraction:\",a-b)\n",
        "elif choice=='*':\n",
        "    print(\"Multiplication:\",a*b)\n",
        "elif choice=='/':\n",
        "    print(\"Division:\",a/b)\n",
        "else:\n",
        "    print(\"Invaild operator\")"
      ]
    },
    {
      "cell_type": "markdown",
      "metadata": {
        "id": "BJD7vNYD2w4i"
      },
      "source": [
        "### 08) WAP to calculate electricity bill based on following criteria. Which takes the unit from the user.\n",
        "a. First 1 to 50 units – Rs. 2.60/unit</br>\n",
        "b. Next 50 to 100 units – Rs. 3.25/unit</br>\n",
        "c. Next 100 to 200 units – Rs. 5.26/unit</br>\n",
        "d. above 200 units – Rs. 8.45/unit"
      ]
    },
    {
      "cell_type": "code",
      "execution_count": 15,
      "metadata": {
        "colab": {
          "base_uri": "https://localhost:8080/"
        },
        "id": "XK88DgYA2w4i",
        "outputId": "d7758669-af63-42c9-877e-69ff72c60bff"
      },
      "outputs": [
        {
          "name": "stdout",
          "output_type": "stream",
          "text": [
            "Enter Unit:50\n",
            "Rs. 3.25/unit\n"
          ]
        }
      ],
      "source": [
        "u = int(input(\"Enter Unit:\"))\n",
        "\n",
        "if u<=1 or u<50:\n",
        "    print(\"Rs. 2.60/unit\")\n",
        "elif u<=50 or u<100:\n",
        "    print(\"Rs. 3.25/unit\")\n",
        "elif u<=100 or u<200:\n",
        "    print(\"Rs. 5.26/unit\")\n",
        "elif u>=200:\n",
        "    print(\"Rs. 8.45/unit\")"
      ]
    },
    {
      "cell_type": "markdown",
      "metadata": {
        "id": "Eh-e-77g2w4j"
      },
      "source": [
        "### 01) WAP to read marks of five subjects. Calculate percentage and print class accordingly. \n",
        "Fail below 35 </br>\n",
        "Pass Class between 35 to 45 </br>\n",
        "Second Class</br>\n",
        "between 45 to 60</br>\n",
        "First Class between 60 to 70</br> \n",
        "Distinction if more than 70"
      ]
    },
    {
      "cell_type": "code",
      "execution_count": 19,
      "metadata": {
        "colab": {
          "base_uri": "https://localhost:8080/"
        },
        "id": "54uFNyTn2w4j",
        "outputId": "313780bb-15cc-4565-cad4-c2ddbd327109"
      },
      "outputs": [
        {
          "name": "stdout",
          "output_type": "stream",
          "text": [
            "Enter marks of sub1:34\n",
            "Enter marks of sub2:15\n",
            "Enter marks of sub3:13\n",
            "Enter marks of sub4:89\n",
            "Enter marks of sub5:85\n",
            "Total is 236\n",
            "Percentage is 47.2\n",
            "You are in second class\n"
          ]
        }
      ],
      "source": [
        "sub1 = int(input(\"Enter marks of sub1:\"))\n",
        "sub2 = int(input(\"Enter marks of sub2:\"))\n",
        "sub3 = int(input(\"Enter marks of sub3:\"))\n",
        "sub4 = int(input(\"Enter marks of sub4:\"))\n",
        "sub5 = int(input(\"Enter marks of sub5:\"))\n",
        "\n",
        "print(\"Total is\",sub1+sub2+sub3+sub4+sub5)\n",
        "per = (sub1+sub2+sub3+sub4+sub5)/5\n",
        "print(\"Percentage is\",per)\n",
        "\n",
        "if per<35:\n",
        "    print(\"You are fail!\")\n",
        "elif per<=35 or per<45:\n",
        "    print(\"You are pass\")\n",
        "elif per<=45 or per<60:\n",
        "    print(\"You are in second class\")\n",
        "elif per<=60 or per<70:\n",
        "    print(\"You are in first class\")\n",
        "elif per>=70:\n",
        "    print(\"Distinction!!\")"
      ]
    },
    {
      "cell_type": "markdown",
      "metadata": {
        "id": "m2cOgJMJ2w4j"
      },
      "source": [
        "### 02) WAP to find out the Maximum and Minimum number from given 4 numbers."
      ]
    },
    {
      "cell_type": "code",
      "execution_count": 26,
      "metadata": {
        "colab": {
          "base_uri": "https://localhost:8080/"
        },
        "id": "SHBBowri2w4j",
        "outputId": "b316cb49-e249-4a03-868d-1177214ca497"
      },
      "outputs": [
        {
          "name": "stdout",
          "output_type": "stream",
          "text": [
            "Enter Num 1:45\n",
            "Enter Num 2:89\n",
            "Enter Num 3:46\n",
            "Enter Num 4:99\n",
            "99 is Maximum Number\n",
            "45 is Minimum Number\n"
          ]
        }
      ],
      "source": [
        "num1 =int(input(\"Enter Num 1:\"))\n",
        "num2 =int(input(\"Enter Num 2:\"))\n",
        "num3 =int(input(\"Enter Num 3:\"))\n",
        "num4 =int(input(\"Enter Num 4:\"))\n",
        "\n",
        "if (num1>num2):\n",
        "    a1=num1\n",
        "    x1=num2\n",
        "else:\n",
        "    a1=num2\n",
        "    x1=num1\n",
        "\n",
        "if (num3>num4):\n",
        "    a2=num3\n",
        "    x2=num4\n",
        "else:\n",
        "    a2=num4\n",
        "    x2=num3\n",
        "\n",
        "if(a1>a2 or x1>x2):\n",
        "    print(str(a1) + \" is Maximum Number\")\n",
        "    print(str(x2) + \" is Minimum Number\")\n",
        "else:\n",
        "    print(str(a2) + \" is Maximum Number\")\n",
        "    print(str(x1) + \" is Minimum Number\")"
      ]
    },
    {
      "cell_type": "markdown",
      "metadata": {
        "id": "-PGFtKQX2w4k"
      },
      "source": [
        "### 03) WAP to input an integer number and check the last digit of number is even or odd."
      ]
    },
    {
      "cell_type": "code",
      "execution_count": 32,
      "metadata": {
        "colab": {
          "base_uri": "https://localhost:8080/"
        },
        "id": "Eunlq_1x2w4k",
        "outputId": "7017bf66-5cdc-4d15-9a57-c270251e6013"
      },
      "outputs": [
        {
          "name": "stdout",
          "output_type": "stream",
          "text": [
            "Enter number:1569\n",
            "9 is odd\n"
          ]
        }
      ],
      "source": [
        "n = int(input(\"Enter number:\"))\n",
        "\n",
        "while n!=0:\n",
        "    n = n%10\n",
        "    last = n\n",
        "    n = n/10\n",
        "    break;\n",
        "\n",
        "if last%2==0:\n",
        "    print(str(last)+ \" is even\")\n",
        "else:\n",
        "    print(str(last)+ \" is odd\")"
      ]
    },
    {
      "cell_type": "markdown",
      "metadata": {
        "id": "pyPpAfoj2w4k"
      },
      "source": [
        "### 04) WAP to determine the roots of the equation ax2+bx+c=0."
      ]
    },
    {
      "cell_type": "code",
      "execution_count": 34,
      "metadata": {
        "colab": {
          "base_uri": "https://localhost:8080/"
        },
        "id": "fBwn3e9a2w4k",
        "outputId": "1999ee11-e9ce-41a6-e5c8-cb33a044ba41"
      },
      "outputs": [
        {
          "name": "stdout",
          "output_type": "stream",
          "text": [
            "Enter a:2\n",
            "Enter b:3\n",
            "Enter c:4\n",
            "The solution are (-0.75-1.1989578808281798j) and (-0.75+1.1989578808281798j)\n"
          ]
        }
      ],
      "source": [
        "import cmath\n",
        "\n",
        "a =float(input(\"Enter a:\"))\n",
        "b =float(input(\"Enter b:\"))\n",
        "c =float(input(\"Enter c:\"))\n",
        "\n",
        "d = (b**2) - (4*a*c) \n",
        "\n",
        "sol1 = (-b-cmath.sqrt(d))/(2*a)  \n",
        "sol2 = (-b+cmath.sqrt(d))/(2*a)  \n",
        "print('The solution are {0} and {1}'.format(sol1,sol2)) "
      ]
    }
  ],
  "metadata": {
    "colab": {
      "provenance": [],
      "toc_visible": true
    },
    "kernelspec": {
      "display_name": "Python 3",
      "language": "python",
      "name": "python3"
    },
    "language_info": {
      "codemirror_mode": {
        "name": "ipython",
        "version": 3
      },
      "file_extension": ".py",
      "mimetype": "text/x-python",
      "name": "python",
      "nbconvert_exporter": "python",
      "pygments_lexer": "ipython3",
      "version": "3.11.0"
    },
    "vscode": {
      "interpreter": {
        "hash": "2445a01a1005cb4b99379468a9c53f68f512dccecbfad3b1b98a911d2150d6c9"
      }
    }
  },
  "nbformat": 4,
  "nbformat_minor": 0
}
