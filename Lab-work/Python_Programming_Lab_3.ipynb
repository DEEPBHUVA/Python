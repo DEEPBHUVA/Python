{
  "cells": [
    {
      "cell_type": "markdown",
      "metadata": {
        "id": "zBWnkzqv3gXr"
      },
      "source": [
        "\n",
        "<a href='https://www.darshan.ac.in/'> <img src='https://www.darshan.ac.in/Content/media/DU_Logo.svg' width=\"250\" height=\"300\"/></a>\n",
        "<pre>\n",
        "<center><b><h1>Python Programming - 2101CS405</b></center>\n",
        "<center><b><h1>Lab - 3</b></center>    \n",
        "<pre>"
      ]
    },
    {
      "cell_type": "markdown",
      "metadata": {
        "id": "3sz9kiVx3gXx"
      },
      "source": [
        "# for and while loop"
      ]
    },
    {
      "cell_type": "markdown",
      "metadata": {
        "id": "a_UfI0AI3gXy"
      },
      "source": [
        "### 01) WAP to print 1 to 10"
      ]
    },
    {
      "cell_type": "code",
      "execution_count": null,
      "metadata": {
        "colab": {
          "base_uri": "https://localhost:8080/"
        },
        "id": "pifm3WPh3gXz",
        "outputId": "944e86ad-73e7-45d2-91e1-c469108c6f08"
      },
      "outputs": [
        {
          "output_type": "stream",
          "name": "stdout",
          "text": [
            "1\n",
            "2\n",
            "3\n",
            "4\n",
            "5\n",
            "6\n",
            "7\n",
            "8\n",
            "9\n",
            "10\n"
          ]
        }
      ],
      "source": [
        "for i in range(1,11):\n",
        "    print(i)"
      ]
    },
    {
      "cell_type": "markdown",
      "metadata": {
        "id": "wDucRMqU3gX0"
      },
      "source": [
        "### 02) WAP to print 1 to n"
      ]
    },
    {
      "cell_type": "code",
      "execution_count": null,
      "metadata": {
        "colab": {
          "base_uri": "https://localhost:8080/"
        },
        "id": "jamlkkyL3gX0",
        "outputId": "1a2e6896-b208-4cd3-dfe2-c19ab1df4228"
      },
      "outputs": [
        {
          "output_type": "stream",
          "name": "stdout",
          "text": [
            "Enter Number:20\n",
            "1\n",
            "2\n",
            "3\n",
            "4\n",
            "5\n",
            "6\n",
            "7\n",
            "8\n",
            "9\n",
            "10\n",
            "11\n",
            "12\n",
            "13\n",
            "14\n",
            "15\n",
            "16\n",
            "17\n",
            "18\n",
            "19\n",
            "20\n"
          ]
        }
      ],
      "source": [
        "n = int(input(\"Enter Number:\"))\n",
        "for i in range(1,n+1):\n",
        "    print(i)"
      ]
    },
    {
      "cell_type": "markdown",
      "metadata": {
        "id": "sGlkw5sk3gX1"
      },
      "source": [
        "### 03) WAP to print odd numbers between 1 to n"
      ]
    },
    {
      "cell_type": "code",
      "execution_count": null,
      "metadata": {
        "colab": {
          "base_uri": "https://localhost:8080/"
        },
        "id": "xZpkNO5h3gX1",
        "outputId": "c304fd03-aff3-4d90-cdcc-770352119d53"
      },
      "outputs": [
        {
          "output_type": "stream",
          "name": "stdout",
          "text": [
            "Enter Number:10\n",
            "1\n",
            "3\n",
            "5\n",
            "7\n",
            "9\n"
          ]
        }
      ],
      "source": [
        "n = int(input(\"Enter Number:\"))\n",
        "for i in range(1,n+1):\n",
        "    if(i%2!=0):\n",
        "      print(i)"
      ]
    },
    {
      "cell_type": "markdown",
      "metadata": {
        "id": "bWKd2TzQ3gX2"
      },
      "source": [
        "### 04) WAP to print numbers between two given numbers which is divisible by 2 but not divisible by 3"
      ]
    },
    {
      "cell_type": "code",
      "execution_count": null,
      "metadata": {
        "colab": {
          "base_uri": "https://localhost:8080/"
        },
        "id": "iyqvkAXd3gX2",
        "outputId": "17b47157-59ad-413d-e31c-740147f11ef8"
      },
      "outputs": [
        {
          "output_type": "stream",
          "name": "stdout",
          "text": [
            "Enter start number:1\n",
            "Enter end number20\n",
            "2\n",
            "4\n",
            "8\n",
            "10\n",
            "14\n",
            "16\n",
            "20\n"
          ]
        }
      ],
      "source": [
        "n1 = int(input(\"Enter start number:\"))\n",
        "n2 = int(input(\"Enter end number\"))\n",
        "for i in range(n1,n2+1):\n",
        "    if(i%2==0 and i%3!=0):\n",
        "      print(i)"
      ]
    },
    {
      "cell_type": "markdown",
      "metadata": {
        "id": "MZvGOsGo3gX3"
      },
      "source": [
        "### 05) WAP to print sum of 1 to n numbers"
      ]
    },
    {
      "cell_type": "code",
      "execution_count": null,
      "metadata": {
        "colab": {
          "base_uri": "https://localhost:8080/"
        },
        "id": "UMywEOPs3gX3",
        "outputId": "c972d6f7-1bb7-4987-a154-ecbe5432838d"
      },
      "outputs": [
        {
          "output_type": "stream",
          "name": "stdout",
          "text": [
            "Enter number:10\n",
            "55\n"
          ]
        }
      ],
      "source": [
        "n = int(input(\"Enter number:\"))\n",
        "sum=0\n",
        "for i in range(1,n+1):\n",
        "    sum =sum +i\n",
        "\n",
        "print(sum)"
      ]
    },
    {
      "cell_type": "markdown",
      "metadata": {
        "id": "Ym3dSuW73gX4"
      },
      "source": [
        "### 06) WAP to print sum of series 1 + 4 + 9 + 16 + 25 + 36 + ...n"
      ]
    },
    {
      "cell_type": "code",
      "execution_count": null,
      "metadata": {
        "colab": {
          "base_uri": "https://localhost:8080/"
        },
        "id": "xXaj8g5y3gX4",
        "outputId": "ea6ecf69-8639-4b8a-a5fc-ebb859481ad7"
      },
      "outputs": [
        {
          "output_type": "stream",
          "name": "stdout",
          "text": [
            "Enter number:9\n",
            "285\n"
          ]
        }
      ],
      "source": [
        "n = int(input(\"Enter number:\"))\n",
        "sum = 0\n",
        "for i in range(0, n+1):\n",
        "    sum = sum + (i*i);\n",
        "\n",
        "print(sum)"
      ]
    },
    {
      "cell_type": "markdown",
      "metadata": {
        "id": "fkhngHvM3gX4"
      },
      "source": [
        "### 07) WAP to print sum of series 1 – 2 + 3 – 4 + 5 – 6 + 7 ... n"
      ]
    },
    {
      "cell_type": "code",
      "execution_count": null,
      "metadata": {
        "colab": {
          "base_uri": "https://localhost:8080/"
        },
        "id": "vcVhi81J3gX5",
        "outputId": "61c947c2-1566-415f-935f-1533dd19f656"
      },
      "outputs": [
        {
          "output_type": "stream",
          "name": "stdout",
          "text": [
            "Enter number:5\n",
            "3\n"
          ]
        }
      ],
      "source": [
        "n = int(input(\"Enter number:\"))\n",
        "sum=0\n",
        "for i in range(1,n+1):\n",
        "    if(i%2==0):\n",
        "        sum = sum-i\n",
        "    else:\n",
        "        sum = sum+i\n",
        "\n",
        "print(sum)"
      ]
    },
    {
      "cell_type": "markdown",
      "metadata": {
        "id": "5A4C9pID3gX5"
      },
      "source": [
        "### 08) WAP to print multiplication table of given number."
      ]
    },
    {
      "cell_type": "code",
      "execution_count": null,
      "metadata": {
        "colab": {
          "base_uri": "https://localhost:8080/"
        },
        "id": "wIEY0Pka3gX5",
        "outputId": "1884fb5d-bb51-46a2-d432-fdeaf53149cb"
      },
      "outputs": [
        {
          "output_type": "stream",
          "name": "stdout",
          "text": [
            "Enter the number:6\n",
            "6 X 1 = 6\n",
            "6 X 2 = 12\n",
            "6 X 3 = 18\n",
            "6 X 4 = 24\n",
            "6 X 5 = 30\n",
            "6 X 6 = 36\n",
            "6 X 7 = 42\n",
            "6 X 8 = 48\n",
            "6 X 9 = 54\n",
            "6 X 10 = 60\n"
          ]
        }
      ],
      "source": [
        "num = int(input(\"Enter the number:\"))\n",
        "for i in range(1,11):\n",
        "    print(str(num) + \" X \" + str(i) + \" = \" + str(i*num))"
      ]
    },
    {
      "cell_type": "markdown",
      "metadata": {
        "id": "fv11RWC33gX6"
      },
      "source": [
        "### 09) WAP to find factorial of the given number"
      ]
    },
    {
      "cell_type": "code",
      "execution_count": null,
      "metadata": {
        "colab": {
          "base_uri": "https://localhost:8080/"
        },
        "id": "p7XgahvT3gX6",
        "outputId": "c25379ad-3c1b-4877-c18b-0cd5acd8007d"
      },
      "outputs": [
        {
          "output_type": "stream",
          "name": "stdout",
          "text": [
            "Enter the number:5\n",
            "Factorial of this number is:120\n"
          ]
        }
      ],
      "source": [
        "num = int(input(\"Enter the number:\"))\n",
        "fact = 1\n",
        "for i in range(1,num+1):\n",
        "    fact = fact * i\n",
        "\n",
        "print(\"Factorial of this number is:\"+str(fact))"
      ]
    },
    {
      "cell_type": "markdown",
      "metadata": {
        "id": "GN-L0z9D3gX6"
      },
      "source": [
        "### 10) WAP to find factors of the given number"
      ]
    },
    {
      "cell_type": "code",
      "execution_count": null,
      "metadata": {
        "colab": {
          "base_uri": "https://localhost:8080/"
        },
        "id": "KrymNOhP3gX6",
        "outputId": "d615b8cd-1a50-4197-c9ac-b3edbd122aa9"
      },
      "outputs": [
        {
          "output_type": "stream",
          "name": "stdout",
          "text": [
            "Enter number:32\n",
            "1\n",
            "2\n",
            "4\n",
            "8\n",
            "16\n",
            "32\n"
          ]
        }
      ],
      "source": [
        "n = int(input(\"Enter number:\"))\n",
        "for i in range(1, n+1):\n",
        "  if(n%i==0):\n",
        "    print(i)"
      ]
    },
    {
      "cell_type": "markdown",
      "metadata": {
        "id": "F1F1AIN33gX7"
      },
      "source": [
        "### 11) WAP to find whether the given number is prime or not."
      ]
    },
    {
      "cell_type": "code",
      "execution_count": null,
      "metadata": {
        "colab": {
          "base_uri": "https://localhost:8080/"
        },
        "id": "69f_i_Xh3gX7",
        "outputId": "cd26ca81-e5c6-448a-d4e8-e411e4c07e9a"
      },
      "outputs": [
        {
          "output_type": "stream",
          "name": "stdout",
          "text": [
            "Enter number to cheak prime or not:13\n",
            "13 number is prime\n"
          ]
        }
      ],
      "source": [
        "num = int(input(\"Enter number to cheak prime or not:\"))\n",
        "flag = 0\n",
        "for i in range(2, num):\n",
        "    if (num%i == 0):\n",
        "        flag = flag+1 \n",
        "        break\n",
        "if (flag==1):\n",
        "    print(str(num) +\" number is not prime\")\n",
        "else:\n",
        "    print(str(num) +\" number is prime\")"
      ]
    },
    {
      "cell_type": "markdown",
      "metadata": {
        "id": "27unId7J3gX7"
      },
      "source": [
        "### 12) WAP to print sum of digits of given number"
      ]
    },
    {
      "cell_type": "code",
      "execution_count": null,
      "metadata": {
        "colab": {
          "base_uri": "https://localhost:8080/"
        },
        "id": "7vr060wp3gX7",
        "outputId": "5265d858-d6d3-4b9a-a8a9-c9b11c2a1e56"
      },
      "outputs": [
        {
          "output_type": "stream",
          "name": "stdout",
          "text": [
            "Enter number:44\n",
            "8\n"
          ]
        }
      ],
      "source": [
        "n = int(input(\"Enter number:\"))\n",
        "sum = 0\n",
        "while n!=0:\n",
        "    num =n%10\n",
        "    sum = sum + num\n",
        "    n = n//10\n",
        "    \n",
        "print(sum)"
      ]
    },
    {
      "cell_type": "markdown",
      "metadata": {
        "id": "Mra67yze3gX8"
      },
      "source": [
        "### 13) WAP to check whether the given number is palindrome or not"
      ]
    },
    {
      "cell_type": "code",
      "execution_count": null,
      "metadata": {
        "id": "PncIkkju3gX8",
        "colab": {
          "base_uri": "https://localhost:8080/"
        },
        "outputId": "68ed5055-e3e5-4fc9-f481-30996659bba2"
      },
      "outputs": [
        {
          "output_type": "stream",
          "name": "stdout",
          "text": [
            "Enter number:121\n",
            "given is palindrome\n"
          ]
        }
      ],
      "source": [
        "n = int(input(\"Enter number:\"))\n",
        "sum = 0\n",
        "rev=n\n",
        "while n!=0:\n",
        "    i = n%10\n",
        "    sum = sum * 10 + i\n",
        "    n=n//10\n",
        "\n",
        "if(sum==rev):\n",
        "    print(\"given is palindrome\")\n",
        "else:\n",
        "    print(\"given is not palindrome\")"
      ]
    },
    {
      "cell_type": "markdown",
      "metadata": {
        "id": "5OIUrr0p3gX8"
      },
      "source": [
        "### 01) WAP to check whether the given number is Armstrong or not."
      ]
    },
    {
      "cell_type": "code",
      "execution_count": null,
      "metadata": {
        "id": "GnOcNQF33gX8",
        "colab": {
          "base_uri": "https://localhost:8080/"
        },
        "outputId": "7bac8fd6-753c-4c2e-c0f0-6165b8375621"
      },
      "outputs": [
        {
          "output_type": "stream",
          "name": "stdout",
          "text": [
            "Enter number:343\n",
            "Given number is not Armstrong\n"
          ]
        }
      ],
      "source": [
        "n = int(input(\"Enter number:\"))\n",
        "arm = 0\n",
        "cheak = n\n",
        "while n!=0:\n",
        "    i = n%10\n",
        "    arm = arm + i*i*i\n",
        "    n=n//10\n",
        "\n",
        "if(arm == cheak):\n",
        "  print(\"Given number is Armstrong\")\n",
        "else:\n",
        "  print(\"Given number is not Armstrong\")"
      ]
    },
    {
      "cell_type": "markdown",
      "metadata": {
        "id": "Act54wfm3gX9"
      },
      "source": [
        "### 02) WAP to find out prime numbers between given two numbers."
      ]
    },
    {
      "cell_type": "code",
      "execution_count": null,
      "metadata": {
        "id": "2bDk3UgS3gX9",
        "colab": {
          "base_uri": "https://localhost:8080/"
        },
        "outputId": "757fae8a-2d4a-44c3-98eb-c5189439edfb"
      },
      "outputs": [
        {
          "output_type": "stream",
          "name": "stdout",
          "text": [
            "Enter starting number :1\n",
            "Enter ending number :45\n",
            "2\n",
            "3\n",
            "5\n",
            "7\n",
            "11\n",
            "13\n",
            "17\n",
            "19\n",
            "23\n",
            "29\n",
            "31\n",
            "37\n",
            "41\n",
            "43\n"
          ]
        }
      ],
      "source": [
        "n1 = int(input('Enter starting number :'))\n",
        "n2 = int(input('Enter ending number :'))\n",
        "\n",
        "for number in range(n1,n2+1) :\n",
        "    if number > 1 :\n",
        "        for i in range(2,number) :\n",
        "            if (number % i) == 0 :\n",
        "                break\n",
        "        else :\n",
        "            print(number)\n"
      ]
    },
    {
      "cell_type": "markdown",
      "metadata": {
        "id": "AJUfxrr43gX9"
      },
      "source": [
        "### 03) WAP to calculate x^y without using any function."
      ]
    },
    {
      "cell_type": "code",
      "execution_count": null,
      "metadata": {
        "id": "cdp0N1-_3gX9",
        "colab": {
          "base_uri": "https://localhost:8080/"
        },
        "outputId": "c8dc0078-b3e8-46d1-b42f-5be8266e4825"
      },
      "outputs": [
        {
          "output_type": "stream",
          "name": "stdout",
          "text": [
            "Enter X:4\n",
            "Enter Y:3\n",
            "64\n"
          ]
        }
      ],
      "source": [
        "x = int(input(\"Enter X:\"))\n",
        "y = int(input(\"Enter Y:\"))\n",
        "p=1\n",
        "for i in range(1,y+1):\n",
        "    p = p*x\n",
        "\n",
        "print(p)"
      ]
    },
    {
      "cell_type": "markdown",
      "metadata": {
        "id": "6fXUmVEa3gX-"
      },
      "source": [
        "### 04) WAP to check whether the given number is perfect or not.\n",
        "[Sum of factors including 1 excluding number itself]"
      ]
    },
    {
      "cell_type": "code",
      "execution_count": null,
      "metadata": {
        "id": "0JK1iyxU3gX-",
        "colab": {
          "base_uri": "https://localhost:8080/"
        },
        "outputId": "f64a5936-8d2a-4427-b81a-84f5c05080ec"
      },
      "outputs": [
        {
          "output_type": "stream",
          "name": "stdout",
          "text": [
            "Enter number:496\n",
            "Given number is perfect\n"
          ]
        }
      ],
      "source": [
        "n = int(input(\"Enter number:\"))\n",
        "sum=0\n",
        "i=1\n",
        "while i<n:\n",
        "  if(n%i==0):\n",
        "    sum=sum+i\n",
        "  i = i+1\n",
        "\n",
        "if(sum==n):\n",
        "  print(\"Given number is perfect\")\n",
        "else:\n",
        "  print(\"Given number is not perfect\")"
      ]
    },
    {
      "cell_type": "markdown",
      "metadata": {
        "id": "KyBTgep23gX-"
      },
      "source": [
        "### 05) WAP to find the sum of 1 + (1+2) + (1+2+3) + (1+2+3+4)+...+(1+2+3+4+....+n)"
      ]
    },
    {
      "cell_type": "code",
      "execution_count": null,
      "metadata": {
        "id": "HFdv_apS3gX_",
        "colab": {
          "base_uri": "https://localhost:8080/"
        },
        "outputId": "ae84d307-834b-48bb-90cd-baa837a0e4d2"
      },
      "outputs": [
        {
          "output_type": "stream",
          "name": "stdout",
          "text": [
            "Enter number:5\n",
            "35\n"
          ]
        }
      ],
      "source": [
        "n = int(input(\"Enter number:\"))\n",
        "sum=0\n",
        "for i in range(1,n+1):\n",
        "    for j in range(1,i+1):\n",
        "      sum = sum + j\n",
        "\n",
        "print(sum)"
      ]
    },
    {
      "cell_type": "markdown",
      "metadata": {
        "id": "xhKFd4Ad3gX_"
      },
      "source": [
        "### 06) WAP to print Multiplication Table up to n"
      ]
    },
    {
      "cell_type": "code",
      "execution_count": 19,
      "metadata": {
        "id": "oytbrUmO3gX_",
        "colab": {
          "base_uri": "https://localhost:8080/",
          "height": 0
        },
        "outputId": "1fb8e254-123d-418f-ad14-f0a3440ccc14"
      },
      "outputs": [
        {
          "output_type": "stream",
          "name": "stdout",
          "text": [
            "Enter the number:10\n",
            "1X1=1\n",
            "1X2=2\n",
            "1X3=3\n",
            "1X4=4\n",
            "1X5=5\n",
            "1X6=6\n",
            "1X7=7\n",
            "1X8=8\n",
            "1X9=9\n",
            "1X10=10\n",
            "***********\n",
            "2X1=2\n",
            "2X2=4\n",
            "2X3=6\n",
            "2X4=8\n",
            "2X5=10\n",
            "2X6=12\n",
            "2X7=14\n",
            "2X8=16\n",
            "2X9=18\n",
            "2X10=20\n",
            "***********\n",
            "3X1=3\n",
            "3X2=6\n",
            "3X3=9\n",
            "3X4=12\n",
            "3X5=15\n",
            "3X6=18\n",
            "3X7=21\n",
            "3X8=24\n",
            "3X9=27\n",
            "3X10=30\n",
            "***********\n",
            "4X1=4\n",
            "4X2=8\n",
            "4X3=12\n",
            "4X4=16\n",
            "4X5=20\n",
            "4X6=24\n",
            "4X7=28\n",
            "4X8=32\n",
            "4X9=36\n",
            "4X10=40\n",
            "***********\n",
            "5X1=5\n",
            "5X2=10\n",
            "5X3=15\n",
            "5X4=20\n",
            "5X5=25\n",
            "5X6=30\n",
            "5X7=35\n",
            "5X8=40\n",
            "5X9=45\n",
            "5X10=50\n",
            "***********\n",
            "6X1=6\n",
            "6X2=12\n",
            "6X3=18\n",
            "6X4=24\n",
            "6X5=30\n",
            "6X6=36\n",
            "6X7=42\n",
            "6X8=48\n",
            "6X9=54\n",
            "6X10=60\n",
            "***********\n",
            "7X1=7\n",
            "7X2=14\n",
            "7X3=21\n",
            "7X4=28\n",
            "7X5=35\n",
            "7X6=42\n",
            "7X7=49\n",
            "7X8=56\n",
            "7X9=63\n",
            "7X10=70\n",
            "***********\n",
            "8X1=8\n",
            "8X2=16\n",
            "8X3=24\n",
            "8X4=32\n",
            "8X5=40\n",
            "8X6=48\n",
            "8X7=56\n",
            "8X8=64\n",
            "8X9=72\n",
            "8X10=80\n",
            "***********\n",
            "9X1=9\n",
            "9X2=18\n",
            "9X3=27\n",
            "9X4=36\n",
            "9X5=45\n",
            "9X6=54\n",
            "9X7=63\n",
            "9X8=72\n",
            "9X9=81\n",
            "9X10=90\n",
            "***********\n",
            "10X1=10\n",
            "10X2=20\n",
            "10X3=30\n",
            "10X4=40\n",
            "10X5=50\n",
            "10X6=60\n",
            "10X7=70\n",
            "10X8=80\n",
            "10X9=90\n",
            "10X10=100\n",
            "***********\n"
          ]
        }
      ],
      "source": [
        "num = int(input(\"Enter the number:\"))\n",
        "for i in range(1, num+1):\n",
        "    for j in range(1, 11):\n",
        "      print(f\"{i}X{j}={i*j}\")\n",
        "    print(\"***********\")\n",
        "     \n",
        "    \n"
      ]
    }
  ],
  "metadata": {
    "kernelspec": {
      "display_name": "Python 3 (ipykernel)",
      "language": "python",
      "name": "python3"
    },
    "language_info": {
      "codemirror_mode": {
        "name": "ipython",
        "version": 3
      },
      "file_extension": ".py",
      "mimetype": "text/x-python",
      "name": "python",
      "nbconvert_exporter": "python",
      "pygments_lexer": "ipython3",
      "version": "3.9.13"
    },
    "colab": {
      "provenance": []
    }
  },
  "nbformat": 4,
  "nbformat_minor": 0
}